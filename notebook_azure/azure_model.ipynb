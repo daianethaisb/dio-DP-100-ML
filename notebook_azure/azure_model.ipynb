{
 "cells": [
  {
   "cell_type": "code",
   "execution_count": null,
   "id": "70a36a61",
   "metadata": {
    "vscode": {
     "languageId": "plaintext"
    }
   },
   "outputs": [],
   "source": [
    "# IceCream Sales Prediction - Azure ML Notebook\n",
    "\n",
    "#Configurar o Workspace do Azure ML\n",
    "if definir_workspace:\n",
    "    from azureml.core import Workspace\n",
    "    ws = Workspace.from_config()  # precisa de config.json (opcional, se estiver usando Notebook em AML Studio)\n",
    "    print(\"Workspace carregado com sucesso\")\n",
    "    "
   ]
  },
  {
   "cell_type": "code",
   "execution_count": null,
   "id": "db738953",
   "metadata": {
    "vscode": {
     "languageId": "plaintext"
    }
   },
   "outputs": [],
   "source": [
    "#Imports essenciais\n",
    "import pandas as pd\n",
    "import matplotlib.pyplot as plt\n",
    "from sklearn.linear_model import LinearRegression\n",
    "from sklearn.metrics import mean_squared_error, r2_score\n",
    "from sklearn.model_selection import train_test_split\n",
    "import mlflow\n",
    "import mlflow.sklearn\n"
   ]
  },
  {
   "cell_type": "code",
   "execution_count": null,
   "id": "be8b60d6",
   "metadata": {
    "vscode": {
     "languageId": "plaintext"
    }
   },
   "outputs": [],
   "source": [
    "#Definir MLflow para rastrear os experimentos no Azure\n",
    "mlflow.set_tracking_uri(\"azureml\")\n",
    "mlflow.set_experiment(\"IceCreamSalesPrediction\")\n"
   ]
  },
  {
   "cell_type": "code",
   "execution_count": null,
   "id": "7bcb4534",
   "metadata": {
    "vscode": {
     "languageId": "plaintext"
    }
   },
   "outputs": [],
   "source": [
    "#Carregar os dados\n",
    "df = pd.read_csv(\"dataset.csv\")\n",
    "df.head()\n"
   ]
  },
  {
   "cell_type": "code",
   "execution_count": null,
   "id": "bb60fa99",
   "metadata": {
    "vscode": {
     "languageId": "plaintext"
    }
   },
   "outputs": [],
   "source": [
    "#Análise exploratória simples\n",
    "plt.scatter(df[\"temperatura\"], df[\"vendas\"])\n",
    "plt.xlabel(\"Temperatura\")\n",
    "plt.ylabel(\"Vendas\")\n",
    "plt.title(\"Temperatura vs Vendas de Sorvete\")\n",
    "plt.show()\n"
   ]
  },
  {
   "cell_type": "code",
   "execution_count": null,
   "id": "7544cc6e",
   "metadata": {
    "vscode": {
     "languageId": "plaintext"
    }
   },
   "outputs": [],
   "source": [
    "#Separar os dados para treino/teste\n",
    "X = df[[\"temperatura\"]]\n",
    "y = df[\"vendas\"]\n",
    "X_train, X_test, y_train, y_test = train_test_split(X, y, test_size=0.2, random_state=42)\n"
   ]
  },
  {
   "cell_type": "code",
   "execution_count": null,
   "id": "2c241bde",
   "metadata": {
    "vscode": {
     "languageId": "plaintext"
    }
   },
   "outputs": [],
   "source": [
    "#Treinar o modelo com rastreamento do MLflow\n",
    "with mlflow.start_run():\n",
    "    model = LinearRegression()\n",
    "    model.fit(X_train, y_train)\n",
    "\n",
    "    predictions = model.predict(X_test)\n",
    "    mse = mean_squared_error(y_test, predictions)\n",
    "    r2 = r2_score(y_test, predictions)\n",
    "\n",
    "    mlflow.log_param(\"model_type\", \"LinearRegression\")\n",
    "    mlflow.log_metric(\"mse\", mse)\n",
    "    mlflow.log_metric(\"r2\", r2)\n",
    "\n",
    "    # Salvar o modelo\n",
    "    mlflow.sklearn.log_model(model, \"model\")\n",
    "    print(f\"Modelo treinado. R2: {r2:.2f}, MSE: {mse:.2f}\")\n",
    "    "
   ]
  },
  {
   "cell_type": "code",
   "execution_count": null,
   "id": "a6bdd77e",
   "metadata": {
    "vscode": {
     "languageId": "plaintext"
    }
   },
   "outputs": [],
   "source": [
    "#Registrar modelo no Azure (opcional, automático se usar mlflow)\n",
    "# from azureml.core.model import Model\n",
    "# model_path = \"model\"  # Caminho gerado pelo MLflow\n",
    "# model = Model.register(workspace=ws, model_path=model_path, model_name=\"icecream-regressor\")"
   ]
  }
 ],
 "metadata": {
  "language_info": {
   "name": "python"
  }
 },
 "nbformat": 4,
 "nbformat_minor": 5
}
